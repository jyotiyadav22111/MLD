{
  "nbformat": 4,
  "nbformat_minor": 0,
  "metadata": {
    "colab": {
      "name": "Assignment_2.ipynb",
      "provenance": [],
      "collapsed_sections": []
    },
    "kernelspec": {
      "name": "python3",
      "display_name": "Python 3"
    }
  },
  "cells": [
    {
      "cell_type": "markdown",
      "metadata": {
        "id": "l5oKkZZFzLrS",
        "colab_type": "text"
      },
      "source": [
        "### **Ques 1: Create the below pattern using nested for loop in Python.**\n",
        "```\n",
        "*\n",
        "**\n",
        "***\n",
        "****\n",
        "*****\n",
        "****\n",
        "***\n",
        "**\n",
        "*\n",
        "```"
      ]
    },
    {
      "cell_type": "code",
      "metadata": {
        "id": "3AXU3gSyzEXZ",
        "colab_type": "code",
        "outputId": "17eea6e3-7ed2-4972-de0a-bee7f16326b2",
        "colab": {
          "base_uri": "https://localhost:8080/",
          "height": 168
        }
      },
      "source": [
        "def pattern(k):\n",
        "  for j in range(-(k-1),k):\n",
        "    if j<=0:\n",
        "      print('*'*(j+k))\n",
        "    else:\n",
        "      print('*'*(k-j))\n",
        "\n",
        "pattern(5)"
      ],
      "execution_count": 7,
      "outputs": [
        {
          "output_type": "stream",
          "text": [
            "*\n",
            "**\n",
            "***\n",
            "****\n",
            "*****\n",
            "****\n",
            "***\n",
            "**\n",
            "*\n"
          ],
          "name": "stdout"
        }
      ]
    },
    {
      "cell_type": "markdown",
      "metadata": {
        "id": "Fhi1SUvD4Foq",
        "colab_type": "text"
      },
      "source": [
        "### **Ques 2: Write a Python program to reverse a word after accepting the input from the user.** "
      ]
    },
    {
      "cell_type": "code",
      "metadata": {
        "id": "SzWb3GK-8Xf-",
        "colab_type": "code",
        "outputId": "4c4d4152-2490-4c6a-86c5-2ac83a56e83e",
        "colab": {
          "base_uri": "https://localhost:8080/",
          "height": 67
        }
      },
      "source": [
        "feed = str(input(\"Please enter the word: \"))\n",
        "print(\"\\n Reversed String: \", feed[::-1] )"
      ],
      "execution_count": 8,
      "outputs": [
        {
          "output_type": "stream",
          "text": [
            "Please enter the word: John\n",
            "\n",
            " Reversed String:  nhoJ\n"
          ],
          "name": "stdout"
        }
      ]
    }
  ]
}